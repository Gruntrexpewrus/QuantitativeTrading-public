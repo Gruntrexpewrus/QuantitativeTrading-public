{
 "cells": [
  {
   "cell_type": "markdown",
   "metadata": {},
   "source": [
    "# Communicate with Hyperliquid API and check the OrderBook (price, spread, VWAP, average buying price)\n",
    " for details refer to https://github.com/ccxt/ccxt/wiki/Manual#overview\n",
    " no need to api keys here so all good"
   ]
  },
  {
   "cell_type": "code",
   "execution_count": 5,
   "metadata": {},
   "outputs": [
    {
     "name": "stdout",
     "output_type": "stream",
     "text": [
      "['ace', 'alpaca', 'ascendex', 'bequant', 'bigone', 'binance', 'binancecoinm', 'binanceus', 'binanceusdm', 'bingx', 'bit2c', 'bitbank', 'bitbns', 'bitcoincom', 'bitfinex', 'bitfinex2', 'bitflyer', 'bitget', 'bithumb', 'bitmart', 'bitmex', 'bitopro', 'bitpanda', 'bitrue', 'bitso', 'bitstamp', 'bitteam', 'bitvavo', 'bl3p', 'blockchaincom', 'blofin', 'btcalpha', 'btcbox', 'btcmarkets', 'btcturk', 'bybit', 'cex', 'coinbase', 'coinbaseadvanced', 'coinbaseexchange', 'coinbaseinternational', 'coincatch', 'coincheck', 'coinex', 'coinlist', 'coinmate', 'coinmetro', 'coinone', 'coinsph', 'coinspot', 'cryptocom', 'currencycom', 'delta', 'deribit', 'digifinex', 'ellipx', 'exmo', 'fmfwio', 'gate', 'gateio', 'gemini', 'hashkey', 'hitbtc', 'hollaex', 'htx', 'huobi', 'huobijp', 'hyperliquid', 'idex', 'independentreserve', 'indodax', 'kraken', 'krakenfutures', 'kucoin', 'kucoinfutures', 'kuna', 'latoken', 'lbank', 'luno', 'lykke', 'mercado', 'mexc', 'ndax', 'novadax', 'oceanex', 'okcoin', 'okx', 'onetrading', 'oxfun', 'p2b', 'paradex', 'paymium', 'phemex', 'poloniex', 'poloniexfutures', 'probit', 'timex', 'tokocrypto', 'tradeogre', 'upbit', 'vertex', 'wavesexchange', 'wazirx', 'whitebit', 'woo', 'woofipro', 'xt', 'yobit', 'zaif', 'zonda']\n"
     ]
    }
   ],
   "source": [
    "import ccxt\n",
    "print(ccxt.exchanges)"
   ]
  },
  {
   "cell_type": "code",
   "execution_count": 6,
   "metadata": {},
   "outputs": [
    {
     "data": {
      "text/plain": [
       "ccxt.hyperliquid()"
      ]
     },
     "execution_count": 6,
     "metadata": {},
     "output_type": "execute_result"
    }
   ],
   "source": [
    "exchange = ccxt.hyperliquid()\n",
    "exchange"
   ]
  },
  {
   "cell_type": "code",
   "execution_count": null,
   "metadata": {},
   "outputs": [],
   "source": [
    "markets = exchange.load_markets()\n",
    "print(exchange.id, markets)"
   ]
  },
  {
   "cell_type": "code",
   "execution_count": null,
   "metadata": {},
   "outputs": [],
   "source": [
    "exchange.fetch_currencies()"
   ]
  },
  {
   "cell_type": "code",
   "execution_count": null,
   "metadata": {},
   "outputs": [],
   "source": [
    "exchange.fetch_markets()"
   ]
  },
  {
   "cell_type": "code",
   "execution_count": 10,
   "metadata": {},
   "outputs": [],
   "source": [
    "OrderBookBTC = exchange.fetchOrderBook('BTC/USDC:USDC')"
   ]
  },
  {
   "cell_type": "code",
   "execution_count": 11,
   "metadata": {},
   "outputs": [
    {
     "data": {
      "text/plain": [
       "dict_keys(['symbol', 'bids', 'asks', 'timestamp', 'datetime', 'nonce'])"
      ]
     },
     "execution_count": 11,
     "metadata": {},
     "output_type": "execute_result"
    }
   ],
   "source": [
    "OrderBookBTC.keys()"
   ]
  },
  {
   "cell_type": "code",
   "execution_count": 13,
   "metadata": {},
   "outputs": [
    {
     "name": "stdout",
     "output_type": "stream",
     "text": [
      "Intel MKL WARNING: Support of Intel(R) Streaming SIMD Extensions 4.2 (Intel(R) SSE4.2) enabled only processors has been deprecated. Intel oneAPI Math Kernel Library 2025.0 will require Intel(R) Advanced Vector Extensions (Intel(R) AVX) instructions.\n",
      "Intel MKL WARNING: Support of Intel(R) Streaming SIMD Extensions 4.2 (Intel(R) SSE4.2) enabled only processors has been deprecated. Intel oneAPI Math Kernel Library 2025.0 will require Intel(R) Advanced Vector Extensions (Intel(R) AVX) instructions.\n",
      "           symbol                 bids                asks      timestamp  \\\n",
      "0   BTC/USDC:USDC   [93696.0, 0.23452]     [93697.0, 0.45]  1732704761072   \n",
      "1   BTC/USDC:USDC     [93695.0, 0.625]  [93698.0, 0.88066]  1732704761072   \n",
      "2   BTC/USDC:USDC    [93693.0, 0.3125]  [93699.0, 0.25115]  1732704761072   \n",
      "3   BTC/USDC:USDC    [93692.0, 0.3125]  [93700.0, 0.18357]  1732704761072   \n",
      "4   BTC/USDC:USDC   [93691.0, 0.13332]  [93701.0, 0.72348]  1732704761072   \n",
      "5   BTC/USDC:USDC   [93690.0, 0.14186]  [93702.0, 0.03617]  1732704761072   \n",
      "6   BTC/USDC:USDC   [93689.0, 1.41367]  [93703.0, 0.53573]  1732704761072   \n",
      "7   BTC/USDC:USDC   [93688.0, 0.53367]  [93704.0, 0.58199]  1732704761072   \n",
      "8   BTC/USDC:USDC   [93687.0, 0.38076]   [93706.0, 0.1136]  1732704761072   \n",
      "9   BTC/USDC:USDC     [93686.0, 1.505]  [93709.0, 1.71929]  1732704761072   \n",
      "10  BTC/USDC:USDC     [93685.0, 0.625]  [93710.0, 0.14507]  1732704761072   \n",
      "11  BTC/USDC:USDC   [93684.0, 3.02696]  [93712.0, 1.45705]  1732704761072   \n",
      "12  BTC/USDC:USDC   [93683.0, 0.21406]  [93713.0, 2.69292]  1732704761072   \n",
      "13  BTC/USDC:USDC   [93682.0, 0.18146]  [93714.0, 2.61106]  1732704761072   \n",
      "14  BTC/USDC:USDC    [93681.0, 0.5446]  [93718.0, 0.05087]  1732704761072   \n",
      "15  BTC/USDC:USDC   [93679.0, 0.96077]  [93719.0, 0.15294]  1732704761072   \n",
      "16  BTC/USDC:USDC    [93677.0, 0.0943]  [93721.0, 1.40852]  1732704761072   \n",
      "17  BTC/USDC:USDC   [93676.0, 1.75644]  [93723.0, 8.82182]  1732704761072   \n",
      "18  BTC/USDC:USDC   [93675.0, 0.61076]  [93724.0, 1.76258]  1732704761072   \n",
      "19  BTC/USDC:USDC  [93674.0, 12.45327]  [93727.0, 1.37899]  1732704761072   \n",
      "\n",
      "                    datetime nonce  \n",
      "0   2024-11-27T10:52:41.072Z  None  \n",
      "1   2024-11-27T10:52:41.072Z  None  \n",
      "2   2024-11-27T10:52:41.072Z  None  \n",
      "3   2024-11-27T10:52:41.072Z  None  \n",
      "4   2024-11-27T10:52:41.072Z  None  \n",
      "5   2024-11-27T10:52:41.072Z  None  \n",
      "6   2024-11-27T10:52:41.072Z  None  \n",
      "7   2024-11-27T10:52:41.072Z  None  \n",
      "8   2024-11-27T10:52:41.072Z  None  \n",
      "9   2024-11-27T10:52:41.072Z  None  \n",
      "10  2024-11-27T10:52:41.072Z  None  \n",
      "11  2024-11-27T10:52:41.072Z  None  \n",
      "12  2024-11-27T10:52:41.072Z  None  \n",
      "13  2024-11-27T10:52:41.072Z  None  \n",
      "14  2024-11-27T10:52:41.072Z  None  \n",
      "15  2024-11-27T10:52:41.072Z  None  \n",
      "16  2024-11-27T10:52:41.072Z  None  \n",
      "17  2024-11-27T10:52:41.072Z  None  \n",
      "18  2024-11-27T10:52:41.072Z  None  \n",
      "19  2024-11-27T10:52:41.072Z  None  \n"
     ]
    }
   ],
   "source": [
    "import pandas as pd\n",
    "\n",
    "ob = pd.DataFrame(OrderBookBTC)\n",
    "\n",
    "print(ob)"
   ]
  },
  {
   "cell_type": "markdown",
   "metadata": {},
   "source": [
    "Lets look at the price a bit, what is the mid price?"
   ]
  },
  {
   "cell_type": "code",
   "execution_count": 14,
   "metadata": {},
   "outputs": [
    {
     "name": "stdout",
     "output_type": "stream",
     "text": [
      "best bid 93696.0\n",
      "best ask 93697.0\n",
      "Mid-Price: 93696.5\n"
     ]
    }
   ],
   "source": [
    "best_bid = ob['bids'][0][0]  # Best bid price (highest) - price you gotta pay to buy\n",
    "best_ask = ob['asks'][0][0]  # Best ask price (lowest) - price you receive if you sell\n",
    "\n",
    "mid_price = (best_bid + best_ask) / 2\n",
    "print(\"best bid\", best_bid)\n",
    "print('best ask', best_ask)\n",
    "print(f\"Mid-Price: {mid_price}\")"
   ]
  },
  {
   "cell_type": "code",
   "execution_count": 15,
   "metadata": {},
   "outputs": [
    {
     "name": "stdout",
     "output_type": "stream",
     "text": [
      "spread 1.0\n"
     ]
    }
   ],
   "source": [
    "print('spread', best_ask - best_bid)"
   ]
  },
  {
   "cell_type": "markdown",
   "metadata": {},
   "source": [
    "What if I make a big order, how is gonna be the price?"
   ]
  },
  {
   "cell_type": "code",
   "execution_count": 16,
   "metadata": {},
   "outputs": [
    {
     "name": "stdout",
     "output_type": "stream",
     "text": [
      "\n",
      "\n",
      "Price for 20 units: 1873619.6148599999\n",
      "compared to ideal market price\n",
      "Mid-Price: 1873930.0\n",
      "\n",
      "\n",
      "VWAP for the orderbook bids: 93679.35735264434\n",
      "compared to ideal average market price\n",
      "Mid-Price: 93696.5\n"
     ]
    }
   ],
   "source": [
    "def price_for_order(side, size, orderbook):\n",
    "    bookside = orderbook[side]\n",
    "    \n",
    "    tot_quantity = 0\n",
    "    cost = 0\n",
    "    \n",
    "    for price, available_quantity in bookside:\n",
    "        #print('available_quantity', available_quantity)\n",
    "        #print('price', price)\n",
    "        #print('tot executed', tot_quantity)\n",
    "        if tot_quantity + available_quantity >= size:\n",
    "            cost += price*(size-tot_quantity)\n",
    "            tot_quantity += size-tot_quantity\n",
    "            break\n",
    "        else:\n",
    "            cost += price*(available_quantity)\n",
    "            tot_quantity += available_quantity\n",
    "             \n",
    "    return cost if tot_quantity == size else 'error'\n",
    "\n",
    "def vwap_for_orderbook(side, orderbook):\n",
    "    bookside = orderbook[side]\n",
    "    \n",
    "    tot_quantity = 0\n",
    "    cost = 0\n",
    "    \n",
    "    for price, available_quantity in bookside:\n",
    "        cost += price*(available_quantity)\n",
    "        tot_quantity += available_quantity\n",
    "             \n",
    "    return cost/tot_quantity\n",
    "\n",
    "\n",
    "quantity = 20\n",
    "side = 'bids'\n",
    "\n",
    "price = price_for_order( side, quantity, ob)\n",
    "vwap = vwap_for_orderbook( side, ob)\n",
    "print('\\n')\n",
    "print(f\"Price for {quantity} units: {price}\")\n",
    "print('compared to ideal market price')\n",
    "print(f\"Mid-Price: {mid_price*quantity}\")\n",
    "print('\\n')\n",
    "print(f\"VWAP for the orderbook {side}: {vwap}\")\n",
    "print('compared to ideal average market price')\n",
    "print(f\"Mid-Price: {mid_price}\")\n",
    "            "
   ]
  }
 ],
 "metadata": {
  "kernelspec": {
   "display_name": "quanttradpublic",
   "language": "python",
   "name": "python3"
  },
  "language_info": {
   "codemirror_mode": {
    "name": "ipython",
    "version": 3
   },
   "file_extension": ".py",
   "mimetype": "text/x-python",
   "name": "python",
   "nbconvert_exporter": "python",
   "pygments_lexer": "ipython3",
   "version": "3.10.15"
  }
 },
 "nbformat": 4,
 "nbformat_minor": 2
}
